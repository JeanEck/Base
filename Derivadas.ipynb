{
  "nbformat": 4,
  "nbformat_minor": 0,
  "metadata": {
    "colab": {
      "provenance": [],
      "authorship_tag": "ABX9TyOo16haADR8JbzRpLwQy45A",
      "include_colab_link": true
    },
    "kernelspec": {
      "name": "python3",
      "display_name": "Python 3"
    },
    "language_info": {
      "name": "python"
    }
  },
  "cells": [
    {
      "cell_type": "markdown",
      "metadata": {
        "id": "view-in-github",
        "colab_type": "text"
      },
      "source": [
        "<a href=\"https://colab.research.google.com/github/JeanEck/Base/blob/main/Derivadas.ipynb\" target=\"_parent\"><img src=\"https://colab.research.google.com/assets/colab-badge.svg\" alt=\"Open In Colab\"/></a>"
      ]
    },
    {
      "cell_type": "markdown",
      "source": [
        "![Urp.png](data:image/png;base64,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)\n",
        "# <center> **MAESTRÍA EN CIENCIA DE DATOS**\n",
        "\n",
        "\n",
        "# <center> *DERIVADAS*\n",
        "**Exp. JEAN ECAN CALLE.**\n",
        "\n",
        "**CURSO: MÉTODOS DE MATRICES DISTRIBUÍDAS**\n",
        "\n",
        "**Abril 2022**"
      ],
      "metadata": {
        "id": "YD8h_asXJ16L"
      }
    },
    {
      "cell_type": "markdown",
      "source": [
        "##La función y su derivada"
      ],
      "metadata": {
        "id": "aMcViHbXaHyW"
      }
    },
    {
      "cell_type": "code",
      "source": [
        "from sympy import *\n",
        "init_printing() #esto es la escritura dentro de la compilación (no confundir con el título del encabezado que es la latex dentro del texto) \n",
        "x=Symbol('x')\n",
        "f=7*x**8-5*x**4+3*x**2+1000000\n",
        "f, f.diff()                       #muestra a la función y a su derivada (\"f.diff\" lo que hace es derivar la función)\n"
      ],
      "metadata": {
        "id": "JkuajrWD_4-f",
        "colab": {
          "base_uri": "https://localhost:8080/",
          "height": 39
        },
        "outputId": "3828d60b-1864-4b6b-e368-2e23a8be8aac"
      },
      "execution_count": null,
      "outputs": [
        {
          "output_type": "execute_result",
          "data": {
            "text/plain": [
              "⎛   8      4      2                7       3      ⎞\n",
              "⎝7⋅x  - 5⋅x  + 3⋅x  + 1000000, 56⋅x  - 20⋅x  + 6⋅x⎠"
            ],
            "image/png": "[encoded data removed]",
            "text/latex": "$\\displaystyle \\left( 7 x^{8} - 5 x^{4} + 3 x^{2} + 1000000, \\  56 x^{7} - 20 x^{3} + 6 x\\right)$"
          },
          "metadata": {},
          "execution_count": 1
        }
      ]
    },
    {
      "cell_type": "markdown",
      "source": [
        "Evaluando la derivada en un punto"
      ],
      "metadata": {
        "id": "3BL6kjOVaAl3"
      }
    },
    {
      "cell_type": "code",
      "source": [
        "from sympy import *\n",
        "init_printing()\n",
        "x=Symbol('x')\n",
        "f=7*x**8-5*x**4+3*x**2+1000000\n",
        "df=f.diff()                         #Almacenamos la derivada en la variable df\n",
        "#derivada en el punto 3 (forma 1)\n",
        "df.subs(x,3)                        #Evaluar la derivada en el punto, es decir se reemplazará x por 3, luego observamos que el valor es mayor que cero por lo que la gráfica en ese punto crece"
      ],
      "metadata": {
        "colab": {
          "base_uri": "https://localhost:8080/",
          "height": 37
        },
        "id": "zd5jevbgHwsb",
        "outputId": "8b1486e8-ca55-435b-8417-05b260db78e7"
      },
      "execution_count": null,
      "outputs": [
        {
          "output_type": "execute_result",
          "data": {
            "text/plain": [
              "121950"
            ],
            "image/png": "[encoded data removed]",
            "text/latex": "$\\displaystyle 121950$"
          },
          "metadata": {},
          "execution_count": 15
        }
      ]
    },
    {
      "cell_type": "markdown",
      "source": [
        "Para ver la función, la derivada, el punto y el resultado en el punto"
      ],
      "metadata": {
        "id": "ihSOdImnaTkk"
      }
    },
    {
      "cell_type": "code",
      "source": [
        "from sympy import *\n",
        "init_printing()\n",
        "x=Symbol('x')\n",
        "f=7*x**8-5*x**4+3*x**2+1000000\n",
        "df=f.diff()\n",
        "x0=3\n",
        "#derivada en el punto x0 (forma 2)\n",
        "f,df,x0,df.subs(x,x0)               #Con esto podemos ver todo (la función, la derivada, el punto"
      ],
      "metadata": {
        "colab": {
          "base_uri": "https://localhost:8080/",
          "height": 39
        },
        "id": "gzc60cxaIA5J",
        "outputId": "b9c9113a-3121-49ee-c498-198ba57e8f1a"
      },
      "execution_count": null,
      "outputs": [
        {
          "output_type": "execute_result",
          "data": {
            "text/plain": [
              "⎛   8      4      2                7       3                 ⎞\n",
              "⎝7⋅x  - 5⋅x  + 3⋅x  + 1000000, 56⋅x  - 20⋅x  + 6⋅x, 3, 121950⎠"
            ],
            "image/png": "[encoded data removed]",
            "text/latex": "$\\displaystyle \\left( 7 x^{8} - 5 x^{4} + 3 x^{2} + 1000000, \\  56 x^{7} - 20 x^{3} + 6 x, \\  3, \\  121950\\right)$"
          },
          "metadata": {},
          "execution_count": 16
        }
      ]
    },
    {
      "cell_type": "markdown",
      "source": [
        "Generalizando para el punto\n",
        "(si la derivada en el punto es negativa la función esta decreciendo)"
      ],
      "metadata": {
        "id": "k82ZCDyYatY7"
      }
    },
    {
      "cell_type": "code",
      "source": [
        "from sympy import *\n",
        "init_printing()\n",
        "x=Symbol('x')\n",
        "f=exp(-2*x**2)\n",
        "df=f.diff()\n",
        "x0=5\n",
        "#derivada en el punto x0 (forma 2)\n",
        "f,df,x0,df.subs(x,x0)"
      ],
      "metadata": {
        "colab": {
          "base_uri": "https://localhost:8080/",
          "height": 57
        },
        "id": "QyR85hgyIbgr",
        "outputId": "41a5383d-1d92-452b-b675-f49c7b23e7f7"
      },
      "execution_count": null,
      "outputs": [
        {
          "output_type": "execute_result",
          "data": {
            "text/plain": [
              "⎛     2            2             ⎞\n",
              "⎜ -2⋅x         -2⋅x           -50⎟\n",
              "⎝ℯ     , -4⋅x⋅ℯ     , 5, -20⋅ℯ   ⎠"
            ],
            "image/png": "[encoded data removed]",
            "text/latex": "$\\displaystyle \\left( e^{- 2 x^{2}}, \\  - 4 x e^{- 2 x^{2}}, \\  5, \\  - \\frac{20}{e^{50}}\\right)$"
          },
          "metadata": {},
          "execution_count": 17
        }
      ]
    },
    {
      "cell_type": "markdown",
      "source": [
        "##Gráfica de funciones"
      ],
      "metadata": {
        "id": "piqgZGVdIv4W"
      }
    },
    {
      "cell_type": "markdown",
      "source": [
        "utilizaremos la herramienta pylab para hacer la representación gráfica"
      ],
      "metadata": {
        "id": "lgaasD3SdkqN"
      }
    },
    {
      "cell_type": "code",
      "source": [
        "from pylab import* #se dice que es una combinación entre numpy y matplotlib\n",
        "## con linspace (\"desde -1\", \"a 9\", \"con 100 puntos complementarios para suavizar la gráfica\")\n",
        "x=linspace(-1,9,100)\n",
        "f=exp(-2*x**2)\n",
        "plot(x,f) #plot es la sentencia que grafica la función \"x y su imagen definida como f, se guarda en memoria\n",
        "plt.show()"
      ],
      "metadata": {
        "colab": {
          "base_uri": "https://localhost:8080/",
          "height": 265
        },
        "id": "aSZnqlItJEcS",
        "outputId": "7482b10f-a663-4356-8810-ab7362571fa9"
      },
      "execution_count": null,
      "outputs": [
        {
          "output_type": "display_data",
          "data": {
            "text/plain": [
              "<Figure size 432x288 with 1 Axes>"
            ],
            "image/png": "[encoded data removed]"
          },
          "metadata": {
            "needs_background": "light"
          }
        }
      ]
    },
    {
      "cell_type": "code",
      "source": [
        "x=linspace(4.9,5.3,100)\n",
        "f=exp(-2*x**2)\n",
        "plot(x,f) #se guarda en memoria\n",
        "plt.show()"
      ],
      "metadata": {
        "colab": {
          "base_uri": "https://localhost:8080/",
          "height": 276
        },
        "id": "m8gPKTY2K1UJ",
        "outputId": "1b950a1c-637d-46e8-ae80-4da2ecb5a6df"
      },
      "execution_count": null,
      "outputs": [
        {
          "output_type": "display_data",
          "data": {
            "text/plain": [
              "<Figure size 432x288 with 1 Axes>"
            ],
            "image/png": "[encoded data removed]"
          },
          "metadata": {
            "needs_background": "light"
          }
        }
      ]
    },
    {
      "cell_type": "markdown",
      "source": [
        "Complementar el gráfico (Tarea)\n",
        "\n",
        "\n",
        "*   Que se muestren los ejes cartesianos \"x\" e \"y\"\n",
        "*   mostrando título de gráfico\n",
        "*   Malla o cuadrícula\n",
        "*   Leyenda\n",
        "\n",
        "\n",
        "\n"
      ],
      "metadata": {
        "id": "WawUEI2WLRK2"
      }
    },
    {
      "cell_type": "markdown",
      "source": [
        "TAREA: PROBLEMAS DE OPTIMIZACIÓN"
      ],
      "metadata": {
        "id": "L6oGwnWkJSlr"
      }
    },
    {
      "cell_type": "markdown",
      "source": [
        "1. Una pequeña compañía debe alquilar ayuda temporal que es más cara para complementar su personal \n",
        "de tiempo completo. Se estima que los costos semanales \n",
        "C(m) de salarios y beneficios se relacionan con el número m de empleados de tiempo completo por la función $$C(m)=250m+\\frac{1600}{m}+1000, (0<m\\leq30)$$ ¿Cuántos empleados de tiempo completo deberían tener la compañía para minimizar esos \n",
        "costos?"
      ],
      "metadata": {
        "id": "O8F5kQa-yl9w"
      }
    },
    {
      "cell_type": "code",
      "source": [
        "from sympy import *\n",
        "from sympy.plotting import plot\n",
        "from sympy.abc import x\n",
        "init_printing()                         #Esta es para la escritura Latex dentro de la compilación"
      ],
      "metadata": {
        "id": "rh7v2IzgM2pp"
      },
      "execution_count": null,
      "outputs": []
    },
    {
      "cell_type": "code",
      "source": [
        "def extremos(C):                      #entrada función C\n",
        "  dC=diff(C, x)                       # derivar la función \"C\" y y evaluar eb el punto \"x\"\n",
        "  d2C=diff(C,x,2)                     # segunda derivada (función c, en punto x, grado de derivación de orden)\n",
        "  criticos =solve(Eq(dC,0))           #para hallar los puntos críticos es con la 1era derivada dónde al lado izquierdo esta la derivada de la función y al lado derecho el 0\n",
        "  for p in criticos:                  #bucle recorriendo los puntos criticos \"p\"\n",
        "      if d2C.subs(x,p)>0:             #evaluando la segunda derivada en el punto p si es un punto minimo relativo\n",
        "        tipo=\"Minimo\"\n",
        "        Pmin=(p,C.subs(x,p))          #almacenando en Pmin (en el punto p, su imagen)\n",
        "      elif d2C.subs(x,p)<0:\n",
        "        tipo=\"Maximo\"\n",
        "        Pmax=(p,C.subs(x,p))\n",
        "      else:\n",
        "        tipo=\"punto de inflexión\"\n",
        "      print(\"x = %f (%s)\"%(p,tipo))\n",
        "  print(Pmin)\n",
        "  print(Pmax)\n",
        "  "
      ],
      "metadata": {
        "id": "e_lDvFEyJUyq"
      },
      "execution_count": null,
      "outputs": []
    },
    {
      "cell_type": "code",
      "source": [
        "extremos(250*x+16000/x+1000)"
      ],
      "metadata": {
        "colab": {
          "base_uri": "https://localhost:8080/"
        },
        "id": "x4ujwoDdLk3l",
        "outputId": "c1d770bd-f1f7-4501-8ac9-fb500fe07c72"
      },
      "execution_count": null,
      "outputs": [
        {
          "output_type": "stream",
          "name": "stdout",
          "text": [
            "x = -8.000000 (Maximo)\n",
            "x = 8.000000 (Minimo)\n",
            "(8, 5000)\n",
            "(-8, -3000)\n"
          ]
        }
      ]
    },
    {
      "cell_type": "markdown",
      "source": [
        "Para graficar"
      ],
      "metadata": {
        "id": "_kKTtbwIQ5yj"
      }
    },
    {
      "cell_type": "code",
      "source": [
        "#Mostrando el punto máximo\n",
        "C=250*x+16000/x+1000\n",
        "x0=solve(Eq(C.diff(),0))[0]\n",
        "y0=C.subs(x,solve(Eq(C.diff(),0))[0])\n",
        "x0,y0"
      ],
      "metadata": {
        "colab": {
          "base_uri": "https://localhost:8080/",
          "height": 37
        },
        "id": "nAaHgFL0Q7nR",
        "outputId": "a3454e3c-a011-42dd-c912-62364af3353d"
      },
      "execution_count": null,
      "outputs": [
        {
          "output_type": "execute_result",
          "data": {
            "text/plain": [
              "(-8, -3000)"
            ],
            "image/png": "[encoded data removed]",
            "text/latex": "$\\displaystyle \\left( -8, \\  -3000\\right)$"
          },
          "metadata": {},
          "execution_count": 36
        }
      ]
    },
    {
      "cell_type": "code",
      "source": [
        "C=250*x+16000/x+1000\n",
        "x1=solve(Eq(C.diff(),0))[1]\n",
        "y1=C.subs(x,solve(Eq(C.diff(),0))[1])\n",
        "x1,y1"
      ],
      "metadata": {
        "colab": {
          "base_uri": "https://localhost:8080/",
          "height": 37
        },
        "id": "kOzA8ExbRc42",
        "outputId": "43b5bac0-a25a-4773-e5f5-1373256e83fa"
      },
      "execution_count": null,
      "outputs": [
        {
          "output_type": "execute_result",
          "data": {
            "text/plain": [
              "(8, 5000)"
            ],
            "image/png": "[encoded data removed]",
            "text/latex": "$\\displaystyle \\left( 8, \\  5000\\right)$"
          },
          "metadata": {},
          "execution_count": 37
        }
      ]
    },
    {
      "cell_type": "code",
      "source": [
        "from pylab import*\n",
        "x=linspace(0,30,100)                              #con linspace (\"desde 0\", \"30\", \"con 100 puntos complementarios para suavizar la gráfica\")\n",
        "plt.axhline(0,color='black')\n",
        "plt.axvline(0,color='black')\n",
        "C=250*x+16000/x+1000\n",
        "plt.text(x1,y1,f'P=({x1},{y1}')                   #Para el punto en la gráfica\n",
        "plot(x,C,label=\"$Costos$\")\n",
        "plot(x1,y1,'o',color='red',label=\"minimo\")\n",
        "title(\"Funcion Costo\")\n",
        "xlabel(\"empleados a contratar\")\n",
        "ylabel(\"Eje C\")\n",
        "legend()\n",
        "grid()\n",
        "plt.show"
      ],
      "metadata": {
        "colab": {
          "base_uri": "https://localhost:8080/",
          "height": 347
        },
        "id": "lEOKoA6gR7AC",
        "outputId": "43b44479-c2ae-41e8-a561-04c6ad6afdd3"
      },
      "execution_count": null,
      "outputs": [
        {
          "output_type": "stream",
          "name": "stderr",
          "text": [
            "/usr/local/lib/python3.7/dist-packages/ipykernel_launcher.py:5: RuntimeWarning: divide by zero encountered in true_divide\n",
            "  \"\"\"\n"
          ]
        },
        {
          "output_type": "execute_result",
          "data": {
            "text/plain": [
              "<function matplotlib.pyplot.show>"
            ]
          },
          "metadata": {},
          "execution_count": 38
        },
        {
          "output_type": "display_data",
          "data": {
            "text/plain": [
              "<Figure size 432x288 with 1 Axes>"
            ],
            "image/png": "[encoded data removed]"
          },
          "metadata": {
            "needs_background": "light"
          }
        }
      ]
    }
  ]
}